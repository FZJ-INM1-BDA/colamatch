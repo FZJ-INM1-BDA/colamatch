{
 "cells": [
  {
   "cell_type": "code",
   "execution_count": null,
   "metadata": {},
   "outputs": [],
   "source": [
    "import colamatch as clm\n",
    "from colamatch import constellation_matching as cm\n",
    "import numpy as np\n",
    "import cv2\n",
    "from matplotlib import pyplot as plt\n",
    "import time\n",
    "%matplotlib notebook"
   ]
  },
  {
   "cell_type": "markdown",
   "metadata": {},
   "source": [
    "## Define filenames and read images and landmarks"
   ]
  },
  {
   "cell_type": "code",
   "execution_count": null,
   "metadata": {},
   "outputs": [],
   "source": [
    "s_fixed = 1\n",
    "s_moving = 2\n",
    "fixed_file = \"../data/section_%s.tif\"%(str(s_fixed).zfill(4))\n",
    "moving_file = \"../data/section_%s.tif\"%(str(s_moving).zfill(4)) \n",
    "fixed_landmarks = \"../data/section_%s.landmarks.txt\"%(str(s_fixed).zfill(4))\n",
    "moving_landmarks = \"../data/section_%s.landmarks.txt\"%(str(s_moving).zfill(4))"
   ]
  },
  {
   "cell_type": "code",
   "execution_count": null,
   "metadata": {},
   "outputs": [],
   "source": [
    "# read landmarks and images\n",
    "l_fixed = np.loadtxt(fixed_landmarks).astype('int')\n",
    "l_moving = np.loadtxt(moving_landmarks).astype('int')\n",
    "img_fixed = cv2.imread(fixed_file,0)\n",
    "img_moving = cv2.imread(moving_file,0)\n",
    "print(len(l_fixed), len(l_moving))"
   ]
  },
  {
   "cell_type": "markdown",
   "metadata": {},
   "source": [
    "## Perform constellation matching"
   ]
  },
  {
   "cell_type": "code",
   "execution_count": null,
   "metadata": {
    "scrolled": false
   },
   "outputs": [],
   "source": [
    "# working settings: num_samples=1500, radius=0.13, lamda=2, ransac=0.1\n",
    "# working settings: num_samples=10000, radius=0.1, lamda=2, ransac=0.1 # oder radius=0.8\n",
    "# warum so schlechte matches fuer grosses num_matches? radius muss kleiner werden fuer grosse num_samples...\n",
    "num_samples = 10000 #100000\n",
    "runtimes = {}\n",
    "#for num_samples in range(1000,100001,5000):\n",
    "c1_fixed = clm.ExhaustiveSampler(len(l_fixed),4)\n",
    "c1_moving = clm.ExhaustiveSampler(len(l_moving),4)\n",
    "c2_fixed = clm.RandomSampler(len(l_fixed), 4, num_samples)\n",
    "c2_moving = clm.RandomSampler(len(l_moving), 4, num_samples)\n",
    "start = time.time()\n",
    "matches = cm.match(l_fixed, l_moving, c2_fixed, c2_moving, radius=0.08, lamda=2, ransac=0.1)\n",
    "print(\"runtime for num_samples=%s: %f\" % (num_samples,time.time()-start))\n",
    "runtimes[num_samples] = time.time()-start"
   ]
  },
  {
   "cell_type": "code",
   "execution_count": null,
   "metadata": {},
   "outputs": [],
   "source": [
    "plt.figure()\n",
    "plt.plot(list(runtimes.keys()), list(runtimes.values()))\n",
    "plt.xlabel(\"num_samples\")\n",
    "plt.ylabel(\"seconds\")\n",
    "plt.plot()\n",
    "#plt.savefig('random_runtimes.png')"
   ]
  },
  {
   "cell_type": "code",
   "execution_count": null,
   "metadata": {},
   "outputs": [],
   "source": [
    "cmap = plt.cm.get_cmap(\"hsv\", len(matches))\n",
    "fig,axs = plt.subplots(1,2)\n",
    "axs[0].imshow(img_fixed, cmap='gray')\n",
    "axs[1].imshow(img_moving, cmap='gray')\n",
    "axs[0].plot(l_fixed[:,0], l_fixed[:,1],'w+',ms=15)\n",
    "axs[1].plot(l_moving[:,0], l_moving[:,1],'w+',ms=15)\n",
    "axs[0].axis('off')\n",
    "axs[1].axis('off')\n",
    "for i,candidate in enumerate(matches): \n",
    "    axs[0].plot(candidate[0,0], candidate[0,1], c=cmap(i), marker='o')\n",
    "    axs[1].plot(candidate[1,0], candidate[1,1], c=cmap(i), marker='o')\n",
    "fig.show()"
   ]
  },
  {
   "cell_type": "markdown",
   "metadata": {
    "collapsed": true
   },
   "source": [
    "## Match real vessel detections"
   ]
  },
  {
   "cell_type": "code",
   "execution_count": null,
   "metadata": {},
   "outputs": [],
   "source": [
    "# read detections from 1529_vessels.h5 and 1530_vessels.h5\n",
    "import h5py\n",
    "l_fixed = h5py.File(\"../data/1529_vessels.h5\")[\"data\"][:,:2]\n",
    "l_moving = h5py.File(\"../data/1530_vessels.h5\")[\"data\"][:,:2]\n",
    "print(l_fixed.shape[0], l_moving.shape[0])"
   ]
  },
  {
   "cell_type": "code",
   "execution_count": null,
   "metadata": {},
   "outputs": [],
   "source": [
    "num_samples = 100000\n",
    "#c1_fixed = clm.ExhaustiveSampler(len(l_fixed),4)  # MemoryError\n",
    "#c1_moving = clm.ExhaustiveSampler(len(l_moving),4)  # MemoryError\n",
    "c2_fixed = clm.RandomSampler(len(l_fixed), 4, num_samples)\n",
    "c2_moving = clm.RandomSampler(len(l_moving), 4, num_samples)\n",
    "start = time.time()\n",
    "matches = cm.match(l_fixed, l_moving, c2_fixed, c2_moving, radius=0.035, lamda=2, ransac=0.1)\n",
    "print(\"runtime for num_samples=%s: %f\" % (num_samples,time.time()-start))"
   ]
  },
  {
   "cell_type": "code",
   "execution_count": null,
   "metadata": {},
   "outputs": [],
   "source": [
    "roifile = h5py.File(\"../data/B20_V1_l_rois.h5\")\n",
    "roi_fixed = roifile[\"1529/roi\"][:]\n",
    "roi_moving = roifile[\"1530/roi\"][:]\n",
    "print(roi_fixed, roi_moving)\n",
    "scale = 0.1"
   ]
  },
  {
   "cell_type": "code",
   "execution_count": null,
   "metadata": {},
   "outputs": [],
   "source": [
    "img_fixed = cv2.imread(\"../data/B20_V1_l_Kai_1529_scale0.1.tif\",0)\n",
    "img_moving = cv2.imread(\"../data/B20_V1_l_Kai_1530_scale0.1.tif\",0)\n",
    "cmap = plt.cm.get_cmap(\"hsv\", len(matches))\n",
    "fig,axs = plt.subplots(2,1)\n",
    "axs[0].imshow(img_fixed, cmap='gray')\n",
    "axs[1].imshow(img_moving, cmap='gray')\n",
    "# plot landmarks - roi-offset * scale according to downscaled images (0.1)\n",
    "axs[0].plot((l_fixed[:,0]-roi_fixed[0,0])*scale, (l_fixed[:,1]-roi_fixed[0,1])*scale,'w+',ms=5)\n",
    "axs[1].plot((l_moving[:,0]-roi_moving[0,0])*scale, (l_moving[:,1]-roi_moving[0,1])*scale,'w+',ms=5)\n",
    "axs[0].axis('off')\n",
    "axs[1].axis('off')\n",
    "for i,match in enumerate(matches): \n",
    "    # plot matched coordinates - roi-offset * scale according to downscaled images (0.1)\n",
    "    axs[0].plot((match[0,0]-roi_fixed[0,0])*scale, (match[0,1]-roi_fixed[0,1])*scale, c=cmap(i), marker='o')\n",
    "    axs[1].plot((match[1,0]-roi_moving[0,0])*scale, (match[1,1]-roi_moving[0,1])*scale, c=cmap(i), marker='o')\n",
    "fig.show()"
   ]
  },
  {
   "cell_type": "code",
   "execution_count": null,
   "metadata": {},
   "outputs": [],
   "source": []
  }
 ],
 "metadata": {
  "kernelspec": {
   "display_name": "Python 2",
   "language": "python",
   "name": "python2"
  },
  "language_info": {
   "codemirror_mode": {
    "name": "ipython",
    "version": 2
   },
   "file_extension": ".py",
   "mimetype": "text/x-python",
   "name": "python",
   "nbconvert_exporter": "python",
   "pygments_lexer": "ipython2",
   "version": "2.7.12"
  }
 },
 "nbformat": 4,
 "nbformat_minor": 2
}
