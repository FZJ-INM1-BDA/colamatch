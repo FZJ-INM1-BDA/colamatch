{
 "cells": [
  {
   "cell_type": "code",
   "execution_count": null,
   "metadata": {},
   "outputs": [],
   "source": [
    "import colamatch as clm\n",
    "from colamatch import constellation_matching as cm\n",
    "import numpy as np\n",
    "import cv2\n",
    "from matplotlib import pyplot as plt\n",
    "%matplotlib notebook"
   ]
  },
  {
   "cell_type": "markdown",
   "metadata": {},
   "source": [
    "## Define filenames and read images and landmarks"
   ]
  },
  {
   "cell_type": "code",
   "execution_count": null,
   "metadata": {},
   "outputs": [],
   "source": [
    "s_fixed = 1\n",
    "s_moving = 2\n",
    "fixed_file = \"../data/section_%s.tif\"%(str(s_fixed).zfill(4))\n",
    "moving_file = \"../data/section_%s.tif\"%(str(s_moving).zfill(4)) \n",
    "fixed_landmarks = \"../data/section_%s.landmarks.txt\"%(str(s_fixed).zfill(4))\n",
    "moving_landmarks = \"../data/section_%s.landmarks.txt\"%(str(s_moving).zfill(4))"
   ]
  },
  {
   "cell_type": "code",
   "execution_count": null,
   "metadata": {},
   "outputs": [],
   "source": [
    "# read landmarks and images\n",
    "l_fixed = np.loadtxt(fixed_landmarks).astype('int')\n",
    "l_moving = np.loadtxt(moving_landmarks).astype('int')\n",
    "img_fixed = cv2.imread(fixed_file,0)\n",
    "img_moving = cv2.imread(moving_file,0)\n",
    "print(len(l_fixed), len(l_moving))"
   ]
  },
  {
   "cell_type": "code",
   "execution_count": null,
   "metadata": {},
   "outputs": [],
   "source": [
    "# build index for fixed image\n",
    "matches = cm.match(l_fixed, l_moving, num_samples=10, radius=3, sample_size=4, lamda=1):    "
   ]
  },
  {
   "cell_type": "code",
   "execution_count": null,
   "metadata": {},
   "outputs": [],
   "source": []
  }
 ],
 "metadata": {
  "kernelspec": {
   "display_name": "Python 3",
   "language": "python",
   "name": "python3"
  },
  "language_info": {
   "codemirror_mode": {
    "name": "ipython",
    "version": 3
   },
   "file_extension": ".py",
   "mimetype": "text/x-python",
   "name": "python",
   "nbconvert_exporter": "python",
   "pygments_lexer": "ipython3",
   "version": "3.6.4"
  }
 },
 "nbformat": 4,
 "nbformat_minor": 2
}
