{
 "cells": [
  {
   "cell_type": "code",
   "execution_count": null,
   "metadata": {},
   "outputs": [],
   "source": [
    "from __future__ import print_function, division, absolute_import \n",
    "import colamatch as clm\n",
    "import numpy as np\n",
    "import cv2\n",
    "from matplotlib import pyplot as plt\n",
    "import time\n",
    "%matplotlib notebook\n",
    "import logging\n",
    "import sys\n",
    "logging.basicConfig(\n",
    "        stream=sys.stdout,\n",
    "        level=logging.INFO,\n",
    "        format='%(asctime)s %(name)s [%(levelname)s]:%(message)s',\n",
    "        datefmt='%Y-%m-%d %H:%M:%S')"
   ]
  },
  {
   "cell_type": "markdown",
   "metadata": {},
   "source": [
    "## Define filenames and read images and pointsets"
   ]
  },
  {
   "cell_type": "code",
   "execution_count": null,
   "metadata": {},
   "outputs": [],
   "source": [
    "# choose testset:\n",
    "testset = 2 # available testsets: 1, 2\n",
    "\n",
    "testset2img_ids = {1:[1,2], 2:[11,12]}\n",
    "s1, s2 = testset2img_ids[testset]\n",
    "img_fname1 = \"../data/section_%s.tif\"%(str(s1).zfill(4))\n",
    "img_fname2 = \"../data/section_%s.tif\"%(str(s2).zfill(4)) \n",
    "points_fname1 = \"../data/section_%s.landmarks.txt\"%(str(s1).zfill(4))\n",
    "points_fname2 = \"../data/section_%s.landmarks.txt\"%(str(s2).zfill(4))"
   ]
  },
  {
   "cell_type": "code",
   "execution_count": null,
   "metadata": {},
   "outputs": [],
   "source": [
    "# read pointsets\n",
    "num_points = -1  # restrict number of points given into matching (-1 for all points)\n",
    "pointlist1 = np.loadtxt(points_fname1).astype('int')[:num_points]\n",
    "pointlist2 = np.loadtxt(points_fname2).astype('int')[:num_points]\n",
    "print(len(pointlist1), len(pointlist2))"
   ]
  },
  {
   "cell_type": "markdown",
   "metadata": {},
   "source": [
    "## Constellation matching"
   ]
  },
  {
   "cell_type": "markdown",
   "metadata": {},
   "source": [
    "### Parameters for constellation matching:\n",
    "* **num_samples**: Number of hashes added to KDTree for pointlists in 1st and 2nd image (depends on #num_points -> more samples needed for increasing number of points used for matching)\n",
    "* **coordinate_weight**: Weight for absolute point coordinates in hash code.\n",
    "* **ransac**: Hessian threshold for homography ransac on matched normalized point coordinates (0.01 works good)\n",
    "* **radius**: Radius for finding similar hashes in KDTree."
   ]
  },
  {
   "cell_type": "code",
   "execution_count": null,
   "metadata": {
    "scrolled": false
   },
   "outputs": [],
   "source": [
    "num_samples = 10000\n",
    "sampler1 = clm.RandomSampler(len(pointlist1), 4, num_samples)\n",
    "sampler2 = clm.RandomSampler(len(pointlist2), 4, num_samples)\n",
    "start = time.time()\n",
    "matches = clm.match(pointlist1, pointlist2, sampler1, sampler2, \n",
    "                    radius=0.1, coordinate_weight=2, ransac_threshold=0.01)\n",
    "print(\"Runtime for num_samples=%s: %f\" % (num_samples,time.time()-start))"
   ]
  },
  {
   "cell_type": "markdown",
   "metadata": {},
   "source": [
    "## Plot results"
   ]
  },
  {
   "cell_type": "code",
   "execution_count": null,
   "metadata": {},
   "outputs": [],
   "source": [
    "# read images\n",
    "img1 = cv2.imread(img_fname1, 0)\n",
    "img2 = cv2.imread(img_fname2, 0)\n",
    "# plot points and matches into images\n",
    "cmap = plt.cm.get_cmap(\"hsv\", len(matches))\n",
    "fig,axs = plt.subplots(2,1)\n",
    "axs[0].imshow(img1, cmap='gray')\n",
    "axs[1].imshow(img2, cmap='gray')\n",
    "axs[0].plot(pointlist1[:,0], pointlist1[:,1],'w+',ms=15)\n",
    "axs[1].plot(pointlist2[:,0], pointlist2[:,1],'w+',ms=15)\n",
    "axs[0].axis('off')\n",
    "axs[1].axis('off')\n",
    "for i,candidate in enumerate(matches): \n",
    "    axs[0].plot(candidate[0,0], candidate[0,1], c=cmap(i), marker='o')\n",
    "    axs[1].plot(candidate[1,0], candidate[1,1], c=cmap(i), marker='o')\n",
    "fig.show()"
   ]
  },
  {
   "cell_type": "code",
   "execution_count": null,
   "metadata": {},
   "outputs": [],
   "source": []
  }
 ],
 "metadata": {
  "kernelspec": {
   "display_name": "Python 2",
   "language": "python",
   "name": "python2"
  },
  "language_info": {
   "codemirror_mode": {
    "name": "ipython",
    "version": 2
   },
   "file_extension": ".py",
   "mimetype": "text/x-python",
   "name": "python",
   "nbconvert_exporter": "python",
   "pygments_lexer": "ipython2",
   "version": "2.7.14"
  }
 },
 "nbformat": 4,
 "nbformat_minor": 2
}
